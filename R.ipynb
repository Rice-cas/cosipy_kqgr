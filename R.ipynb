{
 "cells": [
  {
   "cell_type": "code",
   "execution_count": null,
   "metadata": {
    "vscode": {
     "languageId": "plaintext"
    }
   },
   "outputs": [],
   "source": [
    "from sklearn.metrics import mean_squared_error, r2_score\n",
    "import numpy as np\n",
    "import matplotlib.pyplot as plt\n",
    "import matplotlib.dates as mdates\n",
    "\n",
    "# 假设 filtered_data 和 ST_data 已经定义并经过预处理\n",
    "\n",
    "# 过滤并按天重采样\n",
    "filtered_data = filtered_data[filtered_data['albedo_Avg'] >= 0.1]\n",
    "ST_data = ST_data[ST_data >= -40]\n",
    "\n",
    "# 按天重采样计算平均值\n",
    "daily_mean_albedo = filtered_data['albedo_Avg'].resample('D').mean()\n",
    "daily_mean_TC = ST_data.resample('D').mean()\n",
    "\n",
    "# 获取模型数据\n",
    "albedo_mod = closest_data_cosipy['ALBEDO'].to_dataframe()\n",
    "ST_mod = closest_data_cosipy['TS'].to_dataframe()\n",
    "\n",
    "# 对模型数据按天重采样并计算平均值\n",
    "albedo_mod_mean = albedo_mod['ALBEDO'].resample('D').mean()\n",
    "ST_mod_mean = ST_mod['TS'].resample('D').mean()\n",
    "\n",
    "# 三天滑动平均处理\n",
    "daily_mean_albedo_smooth = daily_mean_albedo.rolling(window=3).mean()\n",
    "albedo_mod_mean_smooth = albedo_mod_mean.rolling(window=3).mean()\n",
    "\n",
    "daily_mean_TC_smooth = daily_mean_TC.rolling(window=3).mean()  # 三天滑动平均处理 TC 数据\n",
    "ST_mod_mean_smooth = ST_mod_mean.rolling(window=3).mean()  # 三天滑动平均处理温度数据\n",
    "\n",
    "# 1. 处理 Albedo 数据\n",
    "true_values_albedo = daily_mean_albedo_smooth\n",
    "predicted_values_albedo = albedo_mod_mean_smooth\n",
    "\n",
    "# 合并 albedo 数据的真实值和预测值\n",
    "merged_albedo = pd.merge(\n",
    "    true_values_albedo, predicted_values_albedo,\n",
    "    how=\"inner\",  # 仅保留两者都有的时间戳\n",
    "    left_index=True, right_index=True\n",
    ")\n",
    "\n",
    "# 删除含有 NaN 的行\n",
    "merged_albedo = merged_albedo.dropna()\n",
    "\n",
    "# 计算 RMSE 和 R2 for albedo 数据\n",
    "rmse_albedo = np.sqrt(mean_squared_error(merged_albedo['albedo_Avg'], merged_albedo['ALBEDO']))\n",
    "r2_albedo = r2_score(merged_albedo['albedo_Avg'], merged_albedo['ALBEDO'])\n",
    "\n",
    "# 打印 albedo 数据的 RMSE 和 R2\n",
    "print(f\"Albedo RMSE: {rmse_albedo:.4f}\")\n",
    "print(f\"Albedo R2: {r2_albedo:.4f}\")\n",
    "\n",
    "# 2. 处理温度数据 TS\n",
    "true_values_TC = daily_mean_TC_smooth\n",
    "predicted_values_TC = ST_mod_mean_smooth\n",
    "\n",
    "# 合并温度数据的真实值和预测值\n",
    "merged_TC = pd.merge(\n",
    "    true_values_TC, predicted_values_TC,\n",
    "    how=\"inner\",  # 仅保留两者都有的时间戳\n",
    "    left_index=True, right_index=True\n",
    ")\n",
    "\n",
    "# 删除含有 NaN 的行\n",
    "merged_TC = merged_TC.dropna()\n",
    "\n",
    "# 计算 RMSE 和 R2 for 温度数据\n",
    "rmse_TC = np.sqrt(mean_squared_error(merged_TC['TS'], merged_TC['TS']))\n",
    "r2_TC = r2_score(merged_TC['TS'], merged_TC['TS'])\n",
    "\n",
    "# 打印温度数据的 RMSE 和 R2\n",
    "print(f\"Temperature RMSE: {rmse_TC:.4f}\")\n",
    "print(f\"Temperature R2: {r2_TC:.4f}\")\n"
   ]
  },
  {
   "cell_type": "code",
   "execution_count": null,
   "metadata": {
    "vscode": {
     "languageId": "plaintext"
    }
   },
   "outputs": [],
   "source": [
    "# 合并两个 Series\n",
    "merged = pd.merge(\n",
    "    true_values, predicted_values,\n",
    "    how=\"inner\",  # 仅保留两者都有的时间戳\n",
    "    left_index=True, right_index=True\n",
    ")\n",
    "\n",
    "# 删除含有 NaN 的行\n",
    "merged_cleaned = merged.dropna()\n",
    "\n",
    "# 提取对齐后的值\n",
    "true_aligned = merged_cleaned[\"true_values\"].values\n",
    "predicted_aligned = merged_cleaned[\"predicted_values\"].values\n",
    "\n",
    "# 计算 RMSE 和 R2\n",
    "rmse = np.sqrt(mean_squared_error(true_aligned, predicted_aligned))\n",
    "r2 = r2_score(true_aligned, predicted_aligned)\n",
    "\n",
    "print(f\"RMSE: {rmse:.4f}\")\n",
    "print(f\"R2: {r2:.4f}\")\n"
   ]
  },
  {
   "cell_type": "code",
   "execution_count": null,
   "metadata": {
    "vscode": {
     "languageId": "plaintext"
    }
   },
   "outputs": [],
   "source": [
    "import pandas as pd\n",
    "\n",
    "# 加载数据\n",
    "path = \"/mnt/c/Users/78631/Desktop/冰面气象站20200916-今.csv\"\n",
    "data = pd.read_csv(path)\n",
    "\n",
    "# 打印列名检查是否包含 'albedo_Avg' 和 'TargetTC_0cm_Avg'\n",
    "print(data.columns)\n",
    "\n",
    "# 将除 'TIMESTAMP' 列外的所有列转换为数值类型，忽略无法转换的内容并将其转换为 NaN\n",
    "data.iloc[:, 1:] = data.iloc[:, 1:].apply(pd.to_numeric, errors='coerce')\n",
    "\n",
    "# 确保索引是时间格式\n",
    "data['TIMESTAMP'] = pd.to_datetime(data['TIMESTAMP'])  # 转换为 datetime\n",
    "data.set_index('TIMESTAMP', inplace=True)  # 将 'TIMESTAMP' 设置为索引\n",
    "\n",
    "# 筛选 albedo_Avg > 0 的数据，并确保没有 NaN 值\n",
    "filtered_data = data.dropna(subset=['albedo_Avg'])  # 去除 'albedo_Avg' 列中为 NaN 的行\n",
    "filtered_data = filtered_data[filtered_data['albedo_Avg'] > 0]  # 筛选出 albedo_Avg > 0 的数据\n",
    "\n",
    "# 获取目标温度数据（TargetTC_0cm_Avg）\n",
    "ST_data = filtered_data['TargetTC_0cm_Avg']\n",
    "\n",
    "# 输出一下 ST_data 以确认数据\n",
    "print(ST_data)\n"
   ]
  },
  {
   "cell_type": "code",
   "execution_count": null,
   "metadata": {
    "vscode": {
     "languageId": "plaintext"
    }
   },
   "outputs": [],
   "source": [
    "# 绘制第二个数据集的曲线（应用滑动平均）- TS (Temperature)\n",
    "plt.subplot(2, 1, 2)  # 创建第二个子图\n",
    "\n",
    "# 绘制 'Modelled' 曲线\n",
    "plt.plot(ST_mod_mean_smooth.index, ST_mod_mean_smooth.values-273.15, \n",
    "         markerfacecolor='none',  # 空心圆圈\n",
    "         markeredgewidth=3,\n",
    "         linewidth=3,\n",
    "         linestyle='-', \n",
    "         color=\"#373A40\",         # 黑色\n",
    "         label='Modelled', alpha=0.9)\n",
    "\n",
    "# 绘制 'Measurement' 曲线，这样它会被 'Modelled' 曲线盖住\n",
    "plt.plot(daily_mean_TC_smooth.index, daily_mean_TC_smooth.values, \n",
    "         markerfacecolor='none',  # 空心圆圈\n",
    "         markeredgewidth=3,\n",
    "         linewidth=3,       # 圆圈边缘宽度\n",
    "         linestyle='-', \n",
    "         color=\"#CC2B52\",   # 红色\n",
    "         label='Measurement', alpha=0.7)\n"
   ]
  }
 ],
 "metadata": {
  "language_info": {
   "name": "python"
  }
 },
 "nbformat": 4,
 "nbformat_minor": 2
}
